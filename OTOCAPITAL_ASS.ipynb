{
  "nbformat": 4,
  "nbformat_minor": 0,
  "metadata": {
    "colab": {
      "name": "OTOCAPITAL_ASS.ipynb",
      "version": "0.3.2",
      "provenance": [],
      "collapsed_sections": [],
      "toc_visible": true,
      "include_colab_link": true
    },
    "kernelspec": {
      "name": "python3",
      "display_name": "Python 3"
    }
  },
  "cells": [
    {
      "cell_type": "markdown",
      "metadata": {
        "id": "view-in-github",
        "colab_type": "text"
      },
      "source": [
        "<a href=\"https://colab.research.google.com/github/souvikjana9993/Data-Analysis/blob/master/OTOCAPITAL_ASS.ipynb\" target=\"_parent\"><img src=\"https://colab.research.google.com/assets/colab-badge.svg\" alt=\"Open In Colab\"/></a>"
      ]
    },
    {
      "metadata": {
        "id": "W3T8HoCEKB-p",
        "colab_type": "code",
        "outputId": "bdaaedac-591c-4122-9b1b-c811454e3a72",
        "colab": {
          "base_uri": "https://localhost:8080/",
          "height": 424
        }
      },
      "cell_type": "code",
      "source": [
        "!pip uninstall seaborn -y\n",
        "!pip install seaborn"
      ],
      "execution_count": 0,
      "outputs": [
        {
          "output_type": "stream",
          "text": [
            "Uninstalling seaborn-0.7.1:\n",
            "  Successfully uninstalled seaborn-0.7.1\n",
            "Collecting seaborn\n",
            "\u001b[?25l  Downloading https://files.pythonhosted.org/packages/a8/76/220ba4420459d9c4c9c9587c6ce607bf56c25b3d3d2de62056efe482dadc/seaborn-0.9.0-py3-none-any.whl (208kB)\n",
            "\u001b[K    100% |████████████████████████████████| 215kB 27.6MB/s \n",
            "\u001b[?25hRequirement already satisfied: numpy>=1.9.3 in /usr/local/lib/python3.6/dist-packages (from seaborn) (1.14.6)\n",
            "Requirement already satisfied: pandas>=0.15.2 in /usr/local/lib/python3.6/dist-packages (from seaborn) (0.22.0)\n",
            "Requirement already satisfied: matplotlib>=1.4.3 in /usr/local/lib/python3.6/dist-packages (from seaborn) (3.0.3)\n",
            "Requirement already satisfied: scipy>=0.14.0 in /usr/local/lib/python3.6/dist-packages (from seaborn) (1.1.0)\n",
            "Requirement already satisfied: pytz>=2011k in /usr/local/lib/python3.6/dist-packages (from pandas>=0.15.2->seaborn) (2018.9)\n",
            "Requirement already satisfied: python-dateutil>=2 in /usr/local/lib/python3.6/dist-packages (from pandas>=0.15.2->seaborn) (2.5.3)\n",
            "Requirement already satisfied: cycler>=0.10 in /usr/local/lib/python3.6/dist-packages (from matplotlib>=1.4.3->seaborn) (0.10.0)\n",
            "Requirement already satisfied: kiwisolver>=1.0.1 in /usr/local/lib/python3.6/dist-packages (from matplotlib>=1.4.3->seaborn) (1.0.1)\n",
            "Requirement already satisfied: pyparsing!=2.0.4,!=2.1.2,!=2.1.6,>=2.0.1 in /usr/local/lib/python3.6/dist-packages (from matplotlib>=1.4.3->seaborn) (2.3.1)\n",
            "Requirement already satisfied: six>=1.5 in /usr/local/lib/python3.6/dist-packages (from python-dateutil>=2->pandas>=0.15.2->seaborn) (1.11.0)\n",
            "Requirement already satisfied: setuptools in /usr/local/lib/python3.6/dist-packages (from kiwisolver>=1.0.1->matplotlib>=1.4.3->seaborn) (40.8.0)\n",
            "Installing collected packages: seaborn\n",
            "Successfully installed seaborn-0.9.0\n"
          ],
          "name": "stdout"
        },
        {
          "output_type": "display_data",
          "data": {
            "application/vnd.colab-display-data+json": {
              "pip_warning": {
                "packages": [
                  "seaborn"
                ]
              }
            }
          },
          "metadata": {
            "tags": []
          }
        }
      ]
    },
    {
      "metadata": {
        "id": "CdH-OEmV2Vbo",
        "colab_type": "code",
        "outputId": "dbf37308-5746-4aa5-b327-bb15e12b5c08",
        "colab": {
          "base_uri": "https://localhost:8080/",
          "height": 333
        }
      },
      "cell_type": "code",
      "source": [
        "#importing and reading data\n",
        "import pandas as pd\n",
        "import numpy as np\n",
        "df=pd.read_excel('/content/cars.xlsx',sheet_name=1)\n",
        "# Visualization packages:\n",
        "import seaborn as sns\n",
        "import matplotlib.pyplot as plt\n",
        "df.head(5)"
      ],
      "execution_count": 0,
      "outputs": [
        {
          "output_type": "execute_result",
          "data": {
            "text/html": [
              "<div>\n",
              "<style scoped>\n",
              "    .dataframe tbody tr th:only-of-type {\n",
              "        vertical-align: middle;\n",
              "    }\n",
              "\n",
              "    .dataframe tbody tr th {\n",
              "        vertical-align: top;\n",
              "    }\n",
              "\n",
              "    .dataframe thead th {\n",
              "        text-align: right;\n",
              "    }\n",
              "</style>\n",
              "<table border=\"1\" class=\"dataframe\">\n",
              "  <thead>\n",
              "    <tr style=\"text-align: right;\">\n",
              "      <th></th>\n",
              "      <th>MMV</th>\n",
              "      <th>Make</th>\n",
              "      <th>Model</th>\n",
              "      <th>Variant</th>\n",
              "      <th>Type</th>\n",
              "      <th>Fuel Type</th>\n",
              "      <th>Age</th>\n",
              "      <th>Transmission</th>\n",
              "      <th>Color</th>\n",
              "      <th>Kms</th>\n",
              "      <th>No of Owner</th>\n",
              "      <th>Heath score</th>\n",
              "      <th>price score</th>\n",
              "      <th>on road price</th>\n",
              "      <th>Current Price</th>\n",
              "      <th>Dep</th>\n",
              "    </tr>\n",
              "  </thead>\n",
              "  <tbody>\n",
              "    <tr>\n",
              "      <th>0</th>\n",
              "      <td>HyundaiI10Sportz 1.2</td>\n",
              "      <td>Hyundai</td>\n",
              "      <td>I10</td>\n",
              "      <td>Sportz 1.2</td>\n",
              "      <td>Hatchback</td>\n",
              "      <td>Petrol</td>\n",
              "      <td>3</td>\n",
              "      <td>Manual</td>\n",
              "      <td>White</td>\n",
              "      <td>12000</td>\n",
              "      <td>1</td>\n",
              "      <td>8.5</td>\n",
              "      <td>8.8</td>\n",
              "      <td>5.378497e+05</td>\n",
              "      <td>338352.0</td>\n",
              "      <td>37.091715</td>\n",
              "    </tr>\n",
              "    <tr>\n",
              "      <th>1</th>\n",
              "      <td>HyundaiI20Magna (O) 1.2</td>\n",
              "      <td>Hyundai</td>\n",
              "      <td>I20</td>\n",
              "      <td>Magna (O) 1.2</td>\n",
              "      <td>Hatchback</td>\n",
              "      <td>Petrol</td>\n",
              "      <td>9</td>\n",
              "      <td>Manual</td>\n",
              "      <td>Beige</td>\n",
              "      <td>68000</td>\n",
              "      <td>1</td>\n",
              "      <td>5.0</td>\n",
              "      <td>7.3</td>\n",
              "      <td>6.138627e+05</td>\n",
              "      <td>189200.0</td>\n",
              "      <td>69.178775</td>\n",
              "    </tr>\n",
              "    <tr>\n",
              "      <th>2</th>\n",
              "      <td>HyundaiI20Sportz 1.2</td>\n",
              "      <td>Hyundai</td>\n",
              "      <td>I20</td>\n",
              "      <td>Sportz 1.2</td>\n",
              "      <td>Hatchback</td>\n",
              "      <td>Petrol</td>\n",
              "      <td>8</td>\n",
              "      <td>Manual</td>\n",
              "      <td>White</td>\n",
              "      <td>31143</td>\n",
              "      <td>1</td>\n",
              "      <td>6.2</td>\n",
              "      <td>4.6</td>\n",
              "      <td>6.783586e+05</td>\n",
              "      <td>347568.0</td>\n",
              "      <td>48.763381</td>\n",
              "    </tr>\n",
              "    <tr>\n",
              "      <th>3</th>\n",
              "      <td>HyundaiNeo Fluidic Elantra1.6SxAtCrdi</td>\n",
              "      <td>Hyundai</td>\n",
              "      <td>Neo Fluidic Elantra</td>\n",
              "      <td>1.6SxAtCrdi</td>\n",
              "      <td>Sedan</td>\n",
              "      <td>Diesel</td>\n",
              "      <td>2</td>\n",
              "      <td>Automatic</td>\n",
              "      <td>Silver</td>\n",
              "      <td>6000</td>\n",
              "      <td>1</td>\n",
              "      <td>8.5</td>\n",
              "      <td>7.9</td>\n",
              "      <td>2.228480e+06</td>\n",
              "      <td>1629250.0</td>\n",
              "      <td>26.889645</td>\n",
              "    </tr>\n",
              "    <tr>\n",
              "      <th>4</th>\n",
              "      <td>HyundaiSantro XingXo</td>\n",
              "      <td>Hyundai</td>\n",
              "      <td>Santro Xing</td>\n",
              "      <td>Xo</td>\n",
              "      <td>Hatchback</td>\n",
              "      <td>Petrol</td>\n",
              "      <td>11</td>\n",
              "      <td>Manual</td>\n",
              "      <td>Golden</td>\n",
              "      <td>100000</td>\n",
              "      <td>2</td>\n",
              "      <td>4.3</td>\n",
              "      <td>9.9</td>\n",
              "      <td>4.537194e+05</td>\n",
              "      <td>86240.0</td>\n",
              "      <td>80.992656</td>\n",
              "    </tr>\n",
              "  </tbody>\n",
              "</table>\n",
              "</div>"
            ],
            "text/plain": [
              "                                     MMV     Make                Model  \\\n",
              "0                   HyundaiI10Sportz 1.2  Hyundai                  I10   \n",
              "1                HyundaiI20Magna (O) 1.2  Hyundai                  I20   \n",
              "2                   HyundaiI20Sportz 1.2  Hyundai                  I20   \n",
              "3  HyundaiNeo Fluidic Elantra1.6SxAtCrdi  Hyundai  Neo Fluidic Elantra   \n",
              "4                   HyundaiSantro XingXo  Hyundai          Santro Xing   \n",
              "\n",
              "         Variant       Type Fuel Type  Age Transmission   Color     Kms  \\\n",
              "0     Sportz 1.2  Hatchback    Petrol    3       Manual   White   12000   \n",
              "1  Magna (O) 1.2  Hatchback    Petrol    9       Manual   Beige   68000   \n",
              "2     Sportz 1.2  Hatchback    Petrol    8       Manual   White   31143   \n",
              "3    1.6SxAtCrdi      Sedan    Diesel    2    Automatic  Silver    6000   \n",
              "4             Xo  Hatchback    Petrol   11       Manual  Golden  100000   \n",
              "\n",
              "   No of Owner  Heath score  price score  on road price  Current Price  \\\n",
              "0            1          8.5          8.8   5.378497e+05       338352.0   \n",
              "1            1          5.0          7.3   6.138627e+05       189200.0   \n",
              "2            1          6.2          4.6   6.783586e+05       347568.0   \n",
              "3            1          8.5          7.9   2.228480e+06      1629250.0   \n",
              "4            2          4.3          9.9   4.537194e+05        86240.0   \n",
              "\n",
              "         Dep  \n",
              "0  37.091715  \n",
              "1  69.178775  \n",
              "2  48.763381  \n",
              "3  26.889645  \n",
              "4  80.992656  "
            ]
          },
          "metadata": {
            "tags": []
          },
          "execution_count": 1
        }
      ]
    },
    {
      "metadata": {
        "id": "EpK8EnVXzb-W",
        "colab_type": "code",
        "outputId": "d5383e91-33bd-4d80-aa22-e9069ac0fc8f",
        "colab": {
          "base_uri": "https://localhost:8080/",
          "height": 84
        }
      },
      "cell_type": "code",
      "source": [
        "df.columns"
      ],
      "execution_count": 0,
      "outputs": [
        {
          "output_type": "execute_result",
          "data": {
            "text/plain": [
              "Index(['MMV', 'Make', 'Model', 'Variant', 'Type', 'Fuel Type', 'Age',\n",
              "       'Transmission', 'Color', 'Kms', 'No of Owner', 'Heath score',\n",
              "       'price score', 'on road price', 'Current Price', 'Dep'],\n",
              "      dtype='object')"
            ]
          },
          "metadata": {
            "tags": []
          },
          "execution_count": 2
        }
      ]
    },
    {
      "metadata": {
        "id": "zHZREN-H2f0l",
        "colab_type": "code",
        "outputId": "0b8baade-b4aa-4f76-8cdc-7741606f556b",
        "colab": {
          "base_uri": "https://localhost:8080/",
          "height": 302
        }
      },
      "cell_type": "code",
      "source": [
        "#Checking for missing values\n",
        "#no null values\n",
        "df.isna().sum()"
      ],
      "execution_count": 0,
      "outputs": [
        {
          "output_type": "execute_result",
          "data": {
            "text/plain": [
              "MMV              0\n",
              "Make             0\n",
              "Model            0\n",
              "Variant          0\n",
              "Type             0\n",
              "Fuel Type        0\n",
              "Age              0\n",
              "Transmission     0\n",
              "Color            0\n",
              "Kms              0\n",
              "No of Owner      0\n",
              "Heath score      0\n",
              "price score      0\n",
              "on road price    0\n",
              "Current Price    0\n",
              "Dep              0\n",
              "dtype: int64"
            ]
          },
          "metadata": {
            "tags": []
          },
          "execution_count": 3
        }
      ]
    },
    {
      "metadata": {
        "id": "U48gxMz0MVzB",
        "colab_type": "text"
      },
      "cell_type": "markdown",
      "source": [
        "# EXPLORATORY DATA ANALYSIS AND HYPOTHESIS TESTING"
      ]
    },
    {
      "metadata": {
        "id": "9YxxcrkO4C9r",
        "colab_type": "text"
      },
      "cell_type": "markdown",
      "source": [
        "Hypothesis to be checked for?\n",
        "1. Does Make of a Car affect the depreciation percentage?\n",
        "2. Does Type of Car contibute to depreciation ?\n",
        "3. We know Age should contribute to depreciation. Let's see what follows.\n",
        "4. Understanding how health score and price score affect depreciation.\n",
        "5. Relation between KMS and Depreciation"
      ]
    },
    {
      "metadata": {
        "id": "ObvcSqCd2npL",
        "colab_type": "code",
        "outputId": "817f7147-64ad-4985-9279-bb6084a7baa7",
        "colab": {
          "base_uri": "https://localhost:8080/",
          "height": 434
        }
      },
      "cell_type": "code",
      "source": [
        "#The depreciation lies between 2% and 92% with a mean of 54 and median of 55. The distribution is approximately normally distributed with supposedly\n",
        "#no outliers\n",
        "sns.distplot(df['Dep']);\n",
        "df['Dep'].describe()"
      ],
      "execution_count": 0,
      "outputs": [
        {
          "output_type": "execute_result",
          "data": {
            "text/plain": [
              "count    3879.000000\n",
              "mean       54.342586\n",
              "std        17.235352\n",
              "min         2.071667\n",
              "25%        42.215315\n",
              "50%        55.280421\n",
              "75%        67.248878\n",
              "max        92.453905\n",
              "Name: Dep, dtype: float64"
            ]
          },
          "metadata": {
            "tags": []
          },
          "execution_count": 4
        },
        {
          "output_type": "display_data",
          "data": {
            "image/png": "[encoded data removed]",
            "text/plain": [
              "<Figure size 432x288 with 1 Axes>"
            ]
          },
          "metadata": {
            "tags": []
          }
        }
      ]
    },
    {
      "metadata": {
        "id": "bCjWl0os7AdD",
        "colab_type": "code",
        "outputId": "2368c518-cb67-428d-8c7b-70d55429b7f5",
        "colab": {
          "base_uri": "https://localhost:8080/",
          "height": 283
        }
      },
      "cell_type": "code",
      "source": [
        "#checking hypothesis 1\n",
        "sns.boxplot(x=\"Make\", y=\"Dep\",data=df);\n",
        "#it can be said that Honda Cars have higher depreciation compared to the other 3 brands"
      ],
      "execution_count": 0,
      "outputs": [
        {
          "output_type": "display_data",
          "data": {
            "image/png": "[encoded data removed]",
            "text/plain": [
              "<Figure size 432x288 with 1 Axes>"
            ]
          },
          "metadata": {
            "tags": []
          }
        }
      ]
    },
    {
      "metadata": {
        "id": "0r9nhdYY8_cs",
        "colab_type": "code",
        "outputId": "5d80348f-bacb-494b-f0e8-5fb68921af27",
        "colab": {
          "base_uri": "https://localhost:8080/",
          "height": 283
        }
      },
      "cell_type": "code",
      "source": [
        "#sedans have higher depreciation compared to other types\n",
        "sns.boxplot(x=\"Type\", y=\"Dep\",data=df);"
      ],
      "execution_count": 0,
      "outputs": [
        {
          "output_type": "display_data",
          "data": {
            "image/png": "[encoded data removed]",
            "text/plain": [
              "<Figure size 432x288 with 1 Axes>"
            ]
          },
          "metadata": {
            "tags": []
          }
        }
      ]
    },
    {
      "metadata": {
        "id": "9ZkHMfZFHkER",
        "colab_type": "code",
        "colab": {}
      },
      "cell_type": "code",
      "source": [
        "#Checking for the Models with Highest Depreciation\n",
        "result=df.groupby(['Model'])['Dep'].aggregate(np.median).reset_index().sort_values('Dep').tail(10)"
      ],
      "execution_count": 0,
      "outputs": []
    },
    {
      "metadata": {
        "id": "QRGeAafWKfxo",
        "colab_type": "code",
        "outputId": "8e3307b5-ce6a-4e1f-ebb7-0395b77165b6",
        "colab": {
          "base_uri": "https://localhost:8080/",
          "height": 343
        }
      },
      "cell_type": "code",
      "source": [
        "#Top 10 models with highest depreciation\n",
        "df.groupby(['Model'])['Dep'].aggregate(np.median).reset_index().sort_values('Dep').tail(10).reset_index().iloc[:,1:]"
      ],
      "execution_count": 0,
      "outputs": [
        {
          "output_type": "execute_result",
          "data": {
            "text/html": [
              "<div>\n",
              "<style scoped>\n",
              "    .dataframe tbody tr th:only-of-type {\n",
              "        vertical-align: middle;\n",
              "    }\n",
              "\n",
              "    .dataframe tbody tr th {\n",
              "        vertical-align: top;\n",
              "    }\n",
              "\n",
              "    .dataframe thead th {\n",
              "        text-align: right;\n",
              "    }\n",
              "</style>\n",
              "<table border=\"1\" class=\"dataframe\">\n",
              "  <thead>\n",
              "    <tr style=\"text-align: right;\">\n",
              "      <th></th>\n",
              "      <th>Model</th>\n",
              "      <th>Dep</th>\n",
              "    </tr>\n",
              "  </thead>\n",
              "  <tbody>\n",
              "    <tr>\n",
              "      <th>0</th>\n",
              "      <td>Accent</td>\n",
              "      <td>73.260432</td>\n",
              "    </tr>\n",
              "    <tr>\n",
              "      <th>1</th>\n",
              "      <td>Getz</td>\n",
              "      <td>74.213219</td>\n",
              "    </tr>\n",
              "    <tr>\n",
              "      <th>2</th>\n",
              "      <td>City Zx</td>\n",
              "      <td>76.060746</td>\n",
              "    </tr>\n",
              "    <tr>\n",
              "      <th>3</th>\n",
              "      <td>Camry</td>\n",
              "      <td>76.897173</td>\n",
              "    </tr>\n",
              "    <tr>\n",
              "      <th>4</th>\n",
              "      <td>Accord</td>\n",
              "      <td>78.361841</td>\n",
              "    </tr>\n",
              "    <tr>\n",
              "      <th>5</th>\n",
              "      <td>Civic</td>\n",
              "      <td>81.361467</td>\n",
              "    </tr>\n",
              "    <tr>\n",
              "      <th>6</th>\n",
              "      <td>Cr-V</td>\n",
              "      <td>82.534418</td>\n",
              "    </tr>\n",
              "    <tr>\n",
              "      <th>7</th>\n",
              "      <td>Corolla</td>\n",
              "      <td>83.301312</td>\n",
              "    </tr>\n",
              "    <tr>\n",
              "      <th>8</th>\n",
              "      <td>Land Cruiser</td>\n",
              "      <td>85.691026</td>\n",
              "    </tr>\n",
              "    <tr>\n",
              "      <th>9</th>\n",
              "      <td>Esteem</td>\n",
              "      <td>87.112224</td>\n",
              "    </tr>\n",
              "  </tbody>\n",
              "</table>\n",
              "</div>"
            ],
            "text/plain": [
              "          Model        Dep\n",
              "0        Accent  73.260432\n",
              "1          Getz  74.213219\n",
              "2       City Zx  76.060746\n",
              "3         Camry  76.897173\n",
              "4        Accord  78.361841\n",
              "5         Civic  81.361467\n",
              "6          Cr-V  82.534418\n",
              "7       Corolla  83.301312\n",
              "8  Land Cruiser  85.691026\n",
              "9        Esteem  87.112224"
            ]
          },
          "metadata": {
            "tags": []
          },
          "execution_count": 10
        }
      ]
    },
    {
      "metadata": {
        "id": "htlROlTz8eVz",
        "colab_type": "code",
        "outputId": "0e5a25ca-895b-47e3-d8d8-77e3bc4e083b",
        "colab": {
          "base_uri": "https://localhost:8080/",
          "height": 283
        }
      },
      "cell_type": "code",
      "source": [
        "#quite obvious that old cars will have high depreciation\n",
        "sns.violinplot(x=\"Age\", y=\"Dep\",data=df);"
      ],
      "execution_count": 0,
      "outputs": [
        {
          "output_type": "display_data",
          "data": {
            "image/png": "[encoded data removed]",
            "text/plain": [
              "<Figure size 432x288 with 1 Axes>"
            ]
          },
          "metadata": {
            "tags": []
          }
        }
      ]
    },
    {
      "metadata": {
        "id": "ZOmfx6KiBYJG",
        "colab_type": "code",
        "outputId": "11006608-4921-44f6-fb2e-5bbf99835e39",
        "colab": {
          "base_uri": "https://localhost:8080/",
          "height": 434
        }
      },
      "cell_type": "code",
      "source": [
        "pd.set_option('display.float_format', lambda x: '%.3f' % x)\n",
        "sns.distplot(df['on road price']);\n",
        "df['on road price'].describe()\n",
        "#looks like there is a 1cr priced car.Lets look if it is an outlier or not"
      ],
      "execution_count": 0,
      "outputs": [
        {
          "output_type": "execute_result",
          "data": {
            "text/plain": [
              "count       3879.000\n",
              "mean      938142.449\n",
              "std       584146.914\n",
              "min       237274.731\n",
              "25%       537849.665\n",
              "50%       781928.080\n",
              "75%      1120297.500\n",
              "max     10954664.000\n",
              "Name: on road price, dtype: float64"
            ]
          },
          "metadata": {
            "tags": []
          },
          "execution_count": 12
        },
        {
          "output_type": "display_data",
          "data": {
            "image/png": "[encoded data removed]",
            "text/plain": [
              "<Figure size 432x288 with 1 Axes>"
            ]
          },
          "metadata": {
            "tags": []
          }
        }
      ]
    },
    {
      "metadata": {
        "id": "doSPhRJ3HCNs",
        "colab_type": "code",
        "outputId": "8d23af61-388c-47f5-eeea-bd866c551626",
        "colab": {
          "base_uri": "https://localhost:8080/",
          "height": 283
        }
      },
      "cell_type": "code",
      "source": [
        "sns.distplot(df['Current Price']);\n",
        "#the highest valued car is not an outler so we don't go for removing it. Instead lets shift it to 99th percentile for better model robustness"
      ],
      "execution_count": 0,
      "outputs": [
        {
          "output_type": "display_data",
          "data": {
            "image/png": "[encoded data removed]",
            "text/plain": [
              "<Figure size 432x288 with 1 Axes>"
            ]
          },
          "metadata": {
            "tags": []
          }
        }
      ]
    },
    {
      "metadata": {
        "id": "_vT6MZZYG7jE",
        "colab_type": "code",
        "outputId": "4363877e-65b2-4398-bf90-9a07d7c90500",
        "colab": {
          "base_uri": "https://localhost:8080/",
          "height": 101
        }
      },
      "cell_type": "code",
      "source": [
        "percentiles = df['on road price'].quantile([0.01,0.99]).values\n",
        "df['on road price'][df['on road price'] >= percentiles[1]] = percentiles[1]"
      ],
      "execution_count": 0,
      "outputs": [
        {
          "output_type": "stream",
          "text": [
            "/usr/local/lib/python3.6/dist-packages/ipykernel_launcher.py:2: SettingWithCopyWarning: \n",
            "A value is trying to be set on a copy of a slice from a DataFrame\n",
            "\n",
            "See the caveats in the documentation: http://pandas.pydata.org/pandas-docs/stable/indexing.html#indexing-view-versus-copy\n",
            "  \n"
          ],
          "name": "stderr"
        }
      ]
    },
    {
      "metadata": {
        "id": "FkncQgLmIKG2",
        "colab_type": "code",
        "outputId": "37d0470e-063e-4d13-d462-d0fb09219ea4",
        "colab": {
          "base_uri": "https://localhost:8080/",
          "height": 283
        }
      },
      "cell_type": "code",
      "source": [
        "sns.distplot(df['on road price']);"
      ],
      "execution_count": 0,
      "outputs": [
        {
          "output_type": "display_data",
          "data": {
            "image/png": "[encoded data removed]",
            "text/plain": [
              "<Figure size 432x288 with 1 Axes>"
            ]
          },
          "metadata": {
            "tags": []
          }
        }
      ]
    },
    {
      "metadata": {
        "id": "PlFKYehWIX01",
        "colab_type": "code",
        "outputId": "30c6ad89-3ac7-43bb-b99f-563e8f36f174",
        "colab": {
          "base_uri": "https://localhost:8080/",
          "height": 101
        }
      },
      "cell_type": "code",
      "source": [
        "percentiles = df['Current Price'].quantile([0.01,0.99]).values\n",
        "df['Current Price'][df['Current Price'] >= percentiles[1]] = percentiles[1]"
      ],
      "execution_count": 0,
      "outputs": [
        {
          "output_type": "stream",
          "text": [
            "/usr/local/lib/python3.6/dist-packages/ipykernel_launcher.py:2: SettingWithCopyWarning: \n",
            "A value is trying to be set on a copy of a slice from a DataFrame\n",
            "\n",
            "See the caveats in the documentation: http://pandas.pydata.org/pandas-docs/stable/indexing.html#indexing-view-versus-copy\n",
            "  \n"
          ],
          "name": "stderr"
        }
      ]
    },
    {
      "metadata": {
        "id": "O2dLc7KEIkyE",
        "colab_type": "code",
        "outputId": "c7119663-47f0-4cf6-e8c2-915eb4a62e3e",
        "colab": {
          "base_uri": "https://localhost:8080/",
          "height": 283
        }
      },
      "cell_type": "code",
      "source": [
        "sns.distplot(df['Current Price']);"
      ],
      "execution_count": 0,
      "outputs": [
        {
          "output_type": "display_data",
          "data": {
            "image/png": "[encoded data removed]",
            "text/plain": [
              "<Figure size 432x288 with 1 Axes>"
            ]
          },
          "metadata": {
            "tags": []
          }
        }
      ]
    },
    {
      "metadata": {
        "id": "IktLUcFK97-8",
        "colab_type": "code",
        "outputId": "1aca06c4-0d30-4974-e531-5dcaf8b220a9",
        "colab": {
          "base_uri": "https://localhost:8080/",
          "height": 283
        }
      },
      "cell_type": "code",
      "source": [
        "sns.regplot(x=\"Age\", y=\"Dep\", data=df);\n",
        "#It is seen that older the car is more the depreciation"
      ],
      "execution_count": 0,
      "outputs": [
        {
          "output_type": "display_data",
          "data": {
            "image/png": "[encoded data removed]",
            "text/plain": [
              "<Figure size 432x288 with 1 Axes>"
            ]
          },
          "metadata": {
            "tags": []
          }
        }
      ]
    },
    {
      "metadata": {
        "id": "9ByhANrk978P",
        "colab_type": "code",
        "outputId": "bf7f5ff1-cd46-4d9d-9a84-6f7375bfb94d",
        "colab": {
          "base_uri": "https://localhost:8080/",
          "height": 283
        }
      },
      "cell_type": "code",
      "source": [
        "sns.barplot(x='No of Owner',y='Dep',data=df);"
      ],
      "execution_count": 0,
      "outputs": [
        {
          "output_type": "display_data",
          "data": {
            "image/png": "[encoded data removed]",
            "text/plain": [
              "<Figure size 432x288 with 1 Axes>"
            ]
          },
          "metadata": {
            "tags": []
          }
        }
      ]
    },
    {
      "metadata": {
        "id": "_DgZAolW_N-d",
        "colab_type": "code",
        "outputId": "64cd8ed5-44c4-4d81-b47a-f6c4db8956d9",
        "colab": {
          "base_uri": "https://localhost:8080/",
          "height": 84
        }
      },
      "cell_type": "code",
      "source": [
        "df.columns"
      ],
      "execution_count": 0,
      "outputs": [
        {
          "output_type": "execute_result",
          "data": {
            "text/plain": [
              "Index(['MMV', 'Make', 'Model', 'Variant', 'Type', 'Fuel Type', 'Age',\n",
              "       'Transmission', 'Color', 'Kms', 'No of Owner', 'Heath score',\n",
              "       'price score', 'on road price', 'Current Price', 'Dep'],\n",
              "      dtype='object')"
            ]
          },
          "metadata": {
            "tags": []
          },
          "execution_count": 20
        }
      ]
    },
    {
      "metadata": {
        "id": "qtu62nme3Iss",
        "colab_type": "code",
        "outputId": "1b20e92a-7cf8-4f05-a209-da85b1022b8e",
        "colab": {
          "base_uri": "https://localhost:8080/",
          "height": 283
        }
      },
      "cell_type": "code",
      "source": [
        "sns.regplot(x=\"Heath score\", y=\"Dep\", data=df, x_estimator=np.mean,x_bins=20, label=\"HealthScore\")\n",
        "sns.regplot(x=\"price score\", y=\"Dep\", data=df, x_estimator=np.mean,x_bins=20, label=\"PriceScore\")\n",
        "plt.legend();\n",
        "#The better the healthscore lesser is the depreciation, on the other hand the higher the PriceScore more is the depreciation\n",
        "#However,PriceScore is more significant for the variable depreciation than the Healthscore"
      ],
      "execution_count": 0,
      "outputs": [
        {
          "output_type": "display_data",
          "data": {
            "image/png": "[encoded data removed]",
            "text/plain": [
              "<Figure size 432x288 with 1 Axes>"
            ]
          },
          "metadata": {
            "tags": []
          }
        }
      ]
    },
    {
      "metadata": {
        "id": "GNGMVYwL24F0",
        "colab_type": "code",
        "outputId": "5d4d3b81-34b8-4b51-b3aa-9b8383b27ac5",
        "colab": {
          "base_uri": "https://localhost:8080/",
          "height": 370
        }
      },
      "cell_type": "code",
      "source": [
        "df.info()"
      ],
      "execution_count": 0,
      "outputs": [
        {
          "output_type": "stream",
          "text": [
            "<class 'pandas.core.frame.DataFrame'>\n",
            "RangeIndex: 3879 entries, 0 to 3878\n",
            "Data columns (total 16 columns):\n",
            "MMV              3879 non-null object\n",
            "Make             3879 non-null object\n",
            "Model            3879 non-null object\n",
            "Variant          3879 non-null object\n",
            "Type             3879 non-null object\n",
            "Fuel Type        3879 non-null object\n",
            "Age              3879 non-null int64\n",
            "Transmission     3879 non-null object\n",
            "Color            3879 non-null object\n",
            "Kms              3879 non-null int64\n",
            "No of Owner      3879 non-null int64\n",
            "Heath score      3879 non-null float64\n",
            "price score      3879 non-null float64\n",
            "on road price    3879 non-null float64\n",
            "Current Price    3879 non-null float64\n",
            "Dep              3879 non-null float64\n",
            "dtypes: float64(5), int64(3), object(8)\n",
            "memory usage: 485.0+ KB\n"
          ],
          "name": "stdout"
        }
      ]
    },
    {
      "metadata": {
        "id": "DdND7ARwMjYa",
        "colab_type": "text"
      },
      "cell_type": "markdown",
      "source": [
        "# MODEL BUILDING - Data Preparation"
      ]
    },
    {
      "metadata": {
        "id": "HvqkgmkMAtzc",
        "colab_type": "code",
        "outputId": "01fe7d79-abfc-451a-8f4d-7ad399b11208",
        "colab": {
          "base_uri": "https://localhost:8080/",
          "height": 84
        }
      },
      "cell_type": "code",
      "source": [
        "df.columns"
      ],
      "execution_count": 0,
      "outputs": [
        {
          "output_type": "execute_result",
          "data": {
            "text/plain": [
              "Index(['MMV', 'Make', 'Model', 'Variant', 'Type', 'Fuel Type', 'Age',\n",
              "       'Transmission', 'Color', 'Kms', 'No of Owner', 'Heath score',\n",
              "       'price score', 'on road price', 'Current Price', 'Dep'],\n",
              "      dtype='object')"
            ]
          },
          "metadata": {
            "tags": []
          },
          "execution_count": 25
        }
      ]
    },
    {
      "metadata": {
        "id": "wgwC67IsMiiA",
        "colab_type": "code",
        "colab": {}
      },
      "cell_type": "code",
      "source": [
        "#we take only the features which we feel are relevant\n",
        "df_model=df[['Make','Model','Variant','Color','No of Owner','Kms','Type','Transmission','Fuel Type','on road price']]\n",
        "target=df['Dep']\n",
        "noofowners=df['No of Owner']"
      ],
      "execution_count": 0,
      "outputs": []
    },
    {
      "metadata": {
        "id": "NL1rIkholJ3Y",
        "colab_type": "code",
        "colab": {}
      },
      "cell_type": "code",
      "source": [
        "df_model_num = df[['Kms','on road price']]\n",
        "df_model_cat = df[['Make','Model','Variant','Color','Type','Transmission','Fuel Type']]"
      ],
      "execution_count": 0,
      "outputs": []
    },
    {
      "metadata": {
        "id": "HBeQFyIe7-R7",
        "colab_type": "text"
      },
      "cell_type": "markdown",
      "source": [
        "## One Hot Encoding and Scaling Numerical Variables"
      ]
    },
    {
      "metadata": {
        "id": "tRHDgPr5mDk-",
        "colab_type": "code",
        "outputId": "422af90e-56c0-4068-c004-a3464b96a7b7",
        "colab": {
          "base_uri": "https://localhost:8080/",
          "height": 104
        }
      },
      "cell_type": "code",
      "source": [
        "df_model_cat_ohe=pd.get_dummies(df_model_cat)\n",
        "from sklearn.preprocessing import StandardScaler\n",
        "std=StandardScaler()\n",
        "#df_model_num=df_model_num.apply(lambda x:std.fit_transform(x))\n",
        "df_model_num_scaled=pd.DataFrame(std.fit_transform(df_model_num),columns=df_model_num.columns)"
      ],
      "execution_count": 0,
      "outputs": [
        {
          "output_type": "stream",
          "text": [
            "/usr/local/lib/python3.6/dist-packages/sklearn/preprocessing/data.py:645: DataConversionWarning: Data with input dtype int64, float64 were all converted to float64 by StandardScaler.\n",
            "  return self.partial_fit(X, y)\n",
            "/usr/local/lib/python3.6/dist-packages/sklearn/base.py:464: DataConversionWarning: Data with input dtype int64, float64 were all converted to float64 by StandardScaler.\n",
            "  return self.fit(X, **fit_params).transform(X)\n"
          ],
          "name": "stderr"
        }
      ]
    },
    {
      "metadata": {
        "id": "xf1Jil_ZpCnE",
        "colab_type": "code",
        "colab": {}
      },
      "cell_type": "code",
      "source": [
        "df_model_cat_ohe=pd.get_dummies(df_model_cat)\n",
        "df_prep1=pd.concat([df_model_cat_ohe,df_model_num_scaled],axis=1)\n"
      ],
      "execution_count": 0,
      "outputs": []
    },
    {
      "metadata": {
        "id": "7HaB3OBc8Ihy",
        "colab_type": "text"
      },
      "cell_type": "markdown",
      "source": [
        "## Label Encoding and Scaling Numerical Variables"
      ]
    },
    {
      "metadata": {
        "id": "8aRBtofk8H0u",
        "colab_type": "code",
        "colab": {}
      },
      "cell_type": "code",
      "source": [
        "from sklearn.preprocessing import LabelEncoder"
      ],
      "execution_count": 0,
      "outputs": []
    },
    {
      "metadata": {
        "id": "vxB20g0I8l7D",
        "colab_type": "code",
        "outputId": "1137978c-1ca7-41d1-9989-36fe7cc7036e",
        "colab": {
          "base_uri": "https://localhost:8080/",
          "height": 195
        }
      },
      "cell_type": "code",
      "source": [
        "df_model_cat_le=df_model_cat.astype('str').apply(LabelEncoder().fit_transform)\n",
        "df_prep2=pd.concat([df_model_cat_le,df_model_num_scaled,noofowners],axis=1)\n",
        "df_prep2.head()"
      ],
      "execution_count": 0,
      "outputs": [
        {
          "output_type": "execute_result",
          "data": {
            "text/html": [
              "<div>\n",
              "<style scoped>\n",
              "    .dataframe tbody tr th:only-of-type {\n",
              "        vertical-align: middle;\n",
              "    }\n",
              "\n",
              "    .dataframe tbody tr th {\n",
              "        vertical-align: top;\n",
              "    }\n",
              "\n",
              "    .dataframe thead th {\n",
              "        text-align: right;\n",
              "    }\n",
              "</style>\n",
              "<table border=\"1\" class=\"dataframe\">\n",
              "  <thead>\n",
              "    <tr style=\"text-align: right;\">\n",
              "      <th></th>\n",
              "      <th>Make</th>\n",
              "      <th>Model</th>\n",
              "      <th>Variant</th>\n",
              "      <th>Color</th>\n",
              "      <th>Type</th>\n",
              "      <th>Transmission</th>\n",
              "      <th>Fuel Type</th>\n",
              "      <th>Kms</th>\n",
              "      <th>on road price</th>\n",
              "      <th>No of Owner</th>\n",
              "    </tr>\n",
              "  </thead>\n",
              "  <tbody>\n",
              "    <tr>\n",
              "      <th>0</th>\n",
              "      <td>1</td>\n",
              "      <td>35</td>\n",
              "      <td>347</td>\n",
              "      <td>31</td>\n",
              "      <td>1</td>\n",
              "      <td>2</td>\n",
              "      <td>3</td>\n",
              "      <td>-0.971</td>\n",
              "      <td>-0.715</td>\n",
              "      <td>1</td>\n",
              "    </tr>\n",
              "    <tr>\n",
              "      <th>1</th>\n",
              "      <td>1</td>\n",
              "      <td>36</td>\n",
              "      <td>305</td>\n",
              "      <td>0</td>\n",
              "      <td>1</td>\n",
              "      <td>2</td>\n",
              "      <td>3</td>\n",
              "      <td>0.242</td>\n",
              "      <td>-0.578</td>\n",
              "      <td>1</td>\n",
              "    </tr>\n",
              "    <tr>\n",
              "      <th>2</th>\n",
              "      <td>1</td>\n",
              "      <td>36</td>\n",
              "      <td>347</td>\n",
              "      <td>31</td>\n",
              "      <td>1</td>\n",
              "      <td>2</td>\n",
              "      <td>3</td>\n",
              "      <td>-0.556</td>\n",
              "      <td>-0.461</td>\n",
              "      <td>1</td>\n",
              "    </tr>\n",
              "    <tr>\n",
              "      <th>3</th>\n",
              "      <td>1</td>\n",
              "      <td>44</td>\n",
              "      <td>61</td>\n",
              "      <td>24</td>\n",
              "      <td>4</td>\n",
              "      <td>1</td>\n",
              "      <td>1</td>\n",
              "      <td>-1.101</td>\n",
              "      <td>2.333</td>\n",
              "      <td>1</td>\n",
              "    </tr>\n",
              "    <tr>\n",
              "      <th>4</th>\n",
              "      <td>1</td>\n",
              "      <td>51</td>\n",
              "      <td>442</td>\n",
              "      <td>10</td>\n",
              "      <td>1</td>\n",
              "      <td>2</td>\n",
              "      <td>3</td>\n",
              "      <td>0.936</td>\n",
              "      <td>-0.866</td>\n",
              "      <td>2</td>\n",
              "    </tr>\n",
              "  </tbody>\n",
              "</table>\n",
              "</div>"
            ],
            "text/plain": [
              "   Make  Model  Variant  Color  Type  Transmission  Fuel Type    Kms  \\\n",
              "0     1     35      347     31     1             2          3 -0.971   \n",
              "1     1     36      305      0     1             2          3  0.242   \n",
              "2     1     36      347     31     1             2          3 -0.556   \n",
              "3     1     44       61     24     4             1          1 -1.101   \n",
              "4     1     51      442     10     1             2          3  0.936   \n",
              "\n",
              "   on road price  No of Owner  \n",
              "0         -0.715            1  \n",
              "1         -0.578            1  \n",
              "2         -0.461            1  \n",
              "3          2.333            1  \n",
              "4         -0.866            2  "
            ]
          },
          "metadata": {
            "tags": []
          },
          "execution_count": 31
        }
      ]
    },
    {
      "metadata": {
        "id": "ikiqir4KB6VK",
        "colab_type": "text"
      },
      "cell_type": "markdown",
      "source": [
        "# Model1- XGBOOST-Label Encoded-Objective Reg:Linear"
      ]
    },
    {
      "metadata": {
        "colab_type": "code",
        "id": "e8oqFGVXCFZk",
        "colab": {}
      },
      "cell_type": "code",
      "source": [
        "#Preparing the data to test and train\n",
        "from sklearn.model_selection import train_test_split\n",
        "X_train, X_test, y_train, y_test = train_test_split(df_prep2,df['Dep'], test_size=0.20, random_state=42)"
      ],
      "execution_count": 0,
      "outputs": []
    },
    {
      "metadata": {
        "colab_type": "code",
        "id": "YH_nKKDbCFZm",
        "colab": {}
      },
      "cell_type": "code",
      "source": [
        "import re\n",
        "regex = re.compile(r\"\\[|\\]|<\", re.IGNORECASE)\n",
        "X_train.columns = [regex.sub(\"_\", col) if any(x in str(col) for x in set(('[', ']', '<'))) else col for col in X_train.columns.values]\n",
        "X_test.columns = [regex.sub(\"_\", col) if any(x in str(col) for x in set(('[', ']', '<'))) else col for col in X_test.columns.values]"
      ],
      "execution_count": 0,
      "outputs": []
    },
    {
      "metadata": {
        "colab_type": "code",
        "outputId": "574c0c18-cfd3-400a-8ccc-44a464d494c8",
        "id": "SorDcF9JCFZt",
        "colab": {
          "base_uri": "https://localhost:8080/",
          "height": 118
        }
      },
      "cell_type": "code",
      "source": [
        "from xgboost import XGBRegressor\n",
        "my_model = XGBRegressor(n_estimators=1000)\n",
        "my_model.fit(X_train,y_train,early_stopping_rounds=5, eval_set=[(X_test, y_test)], verbose=False)"
      ],
      "execution_count": 0,
      "outputs": [
        {
          "output_type": "execute_result",
          "data": {
            "text/plain": [
              "XGBRegressor(base_score=0.5, booster='gbtree', colsample_bylevel=1,\n",
              "       colsample_bytree=1, gamma=0, learning_rate=0.1, max_delta_step=0,\n",
              "       max_depth=3, min_child_weight=1, missing=None, n_estimators=1000,\n",
              "       n_jobs=1, nthread=None, objective='reg:linear', random_state=0,\n",
              "       reg_alpha=0, reg_lambda=1, scale_pos_weight=1, seed=None,\n",
              "       silent=True, subsample=1)"
            ]
          },
          "metadata": {
            "tags": []
          },
          "execution_count": 34
        }
      ]
    },
    {
      "metadata": {
        "colab_type": "code",
        "outputId": "a787caae-6f2c-4668-a258-626cebcd2101",
        "id": "2hv0Eh7XCFZw",
        "colab": {
          "base_uri": "https://localhost:8080/",
          "height": 34
        }
      },
      "cell_type": "code",
      "source": [
        "# make predictions\n",
        "predictions = my_model.predict(X_test)\n",
        "\n",
        "from sklearn.metrics import mean_absolute_error\n",
        "print(\"Mean Absolute Error : \" + str(mean_absolute_error(predictions, y_test)))"
      ],
      "execution_count": 0,
      "outputs": [
        {
          "output_type": "stream",
          "text": [
            "Mean Absolute Error : 8.220057397735694\n"
          ],
          "name": "stdout"
        }
      ]
    },
    {
      "metadata": {
        "id": "SmxNcpP0BrvY",
        "colab_type": "text"
      },
      "cell_type": "markdown",
      "source": [
        "# Model2- XGBOOST-One Hot Encoded-Objective Reg:Linear"
      ]
    },
    {
      "metadata": {
        "id": "zE24DvEbs3Nb",
        "colab_type": "code",
        "colab": {}
      },
      "cell_type": "code",
      "source": [
        "#Preparing the data to test and train\n",
        "from sklearn.model_selection import train_test_split\n",
        "X_train, X_test, y_train, y_test = train_test_split(df_prep1,df['Dep'], test_size=0.33, random_state=42)"
      ],
      "execution_count": 0,
      "outputs": []
    },
    {
      "metadata": {
        "id": "FunYNDmi0Nj0",
        "colab_type": "code",
        "colab": {}
      },
      "cell_type": "code",
      "source": [
        "import re\n",
        "regex = re.compile(r\"\\[|\\]|<\", re.IGNORECASE)\n",
        "X_train.columns = [regex.sub(\"_\", col) if any(x in str(col) for x in set(('[', ']', '<'))) else col for col in X_train.columns.values]\n",
        "X_test.columns = [regex.sub(\"_\", col) if any(x in str(col) for x in set(('[', ']', '<'))) else col for col in X_test.columns.values]"
      ],
      "execution_count": 0,
      "outputs": []
    },
    {
      "metadata": {
        "id": "LZKjYjrL0EDQ",
        "colab_type": "code",
        "outputId": "aa0e8270-a18a-48e9-9199-1da708f1625a",
        "colab": {
          "base_uri": "https://localhost:8080/",
          "height": 151
        }
      },
      "cell_type": "code",
      "source": [
        "X_train.columns"
      ],
      "execution_count": 0,
      "outputs": [
        {
          "output_type": "execute_result",
          "data": {
            "text/plain": [
              "Index(['Make_Honda', 'Make_Hyundai', 'Make_Maruti Suzuki', 'Make_Toyota',\n",
              "       'Model_800', 'Model_A-Star', 'Model_Accent', 'Model_Accord',\n",
              "       'Model_Alto', 'Model_Alto 800',\n",
              "       ...\n",
              "       'Fuel Type_CNG', 'Fuel Type_Diesel', 'Fuel Type_LPG',\n",
              "       'Fuel Type_Petrol', 'Fuel Type_Petrol + CNG', 'Fuel Type_Petrol + LPG',\n",
              "       'Fuel Type_cng', 'Fuel Type_diesel', 'Kms', 'on road price'],\n",
              "      dtype='object', length=606)"
            ]
          },
          "metadata": {
            "tags": []
          },
          "execution_count": 38
        }
      ]
    },
    {
      "metadata": {
        "id": "dIwiOxXPvaM0",
        "colab_type": "code",
        "outputId": "bf0a229f-10c7-4722-d9e4-337227bfb141",
        "colab": {
          "base_uri": "https://localhost:8080/",
          "height": 118
        }
      },
      "cell_type": "code",
      "source": [
        "from xgboost import XGBRegressor\n",
        "my_model = XGBRegressor(objective= 'reg:linear')\n",
        "my_model.fit(X_train,y_train)"
      ],
      "execution_count": 0,
      "outputs": [
        {
          "output_type": "execute_result",
          "data": {
            "text/plain": [
              "XGBRegressor(base_score=0.5, booster='gbtree', colsample_bylevel=1,\n",
              "       colsample_bytree=1, gamma=0, learning_rate=0.1, max_delta_step=0,\n",
              "       max_depth=3, min_child_weight=1, missing=None, n_estimators=100,\n",
              "       n_jobs=1, nthread=None, objective='reg:linear', random_state=0,\n",
              "       reg_alpha=0, reg_lambda=1, scale_pos_weight=1, seed=None,\n",
              "       silent=True, subsample=1)"
            ]
          },
          "metadata": {
            "tags": []
          },
          "execution_count": 46
        }
      ]
    },
    {
      "metadata": {
        "id": "fGcWqNryvaJK",
        "colab_type": "code",
        "outputId": "762339d9-bff4-4eb5-a362-ca5b86f04dea",
        "colab": {
          "base_uri": "https://localhost:8080/",
          "height": 34
        }
      },
      "cell_type": "code",
      "source": [
        "# make predictions\n",
        "predictions = my_model.predict(X_test)\n",
        "\n",
        "from sklearn.metrics import mean_absolute_error\n",
        "print(\"Mean Absolute Error : \" + str(mean_absolute_error(predictions, y_test)))"
      ],
      "execution_count": 0,
      "outputs": [
        {
          "output_type": "stream",
          "text": [
            "Mean Absolute Error : 8.57217362876403\n"
          ],
          "name": "stdout"
        }
      ]
    },
    {
      "metadata": {
        "id": "dQ8amUAoFx2c",
        "colab_type": "text"
      },
      "cell_type": "markdown",
      "source": [
        "# MODEL1 PARAM Tuning"
      ]
    },
    {
      "metadata": {
        "id": "w-eTm2E5uX7R",
        "colab_type": "code",
        "colab": {}
      },
      "cell_type": "code",
      "source": [
        "#Preparing the data to test and train\n",
        "from sklearn.model_selection import train_test_split\n",
        "X_train, X_test, y_train, y_test = train_test_split(df_prep2,df['Dep'], test_size=0.20, random_state=42)"
      ],
      "execution_count": 0,
      "outputs": []
    },
    {
      "metadata": {
        "id": "yy5HwBYiFxbT",
        "colab_type": "code",
        "colab": {}
      },
      "cell_type": "code",
      "source": [
        "from sklearn.model_selection import GridSearchCV\n",
        "from sklearn.model_selection import StratifiedKFold\n",
        "\n",
        "# A parameter grid for XGBoost\n",
        "params = {'min_child_weight':[4,6], 'gamma':[i/10.0 for i in range(3,6)],  'subsample':[i/10.0 for i in range(6,11)],\n",
        "          'colsample_bytree':[i/10.0 for i in range(6,11)], 'max_depth': [2,3,4],'learning_rate':[0.0001, 0.001, 0.01, 0.1, 0.2, 0.3],'reg_alpha':[1e-5, 1e-2, 0.1, 1, 100]}\n",
        "\n",
        "xgb = XGBRegressor(n_estimators=1000) \n",
        "\n",
        "grid = GridSearchCV(xgb, params)\n",
        "grid.fit(X_train, y_train,early_stopping_rounds=6, eval_set=[(X_test, y_test)], verbose=False)"
      ],
      "execution_count": 0,
      "outputs": []
    },
    {
      "metadata": {
        "id": "sWavZTYeIosE",
        "colab_type": "code",
        "outputId": "ef4e779f-951d-4d2b-f13b-3100fa7b348a",
        "colab": {
          "base_uri": "https://localhost:8080/",
          "height": 34
        }
      },
      "cell_type": "code",
      "source": [
        "# make predictions\n",
        "predictions = grid.best_estimator_.predict(X_test)\n",
        "\n",
        "from sklearn.metrics import mean_absolute_error\n",
        "print(\"Mean Absolute Error : \" + str(mean_absolute_error(predictions, y_test)))"
      ],
      "execution_count": 0,
      "outputs": [
        {
          "output_type": "stream",
          "text": [
            "Mean Absolute Error : 8.251120642381373\n"
          ],
          "name": "stdout"
        }
      ]
    },
    {
      "metadata": {
        "id": "zpi78oX6030n",
        "colab_type": "text"
      },
      "cell_type": "markdown",
      "source": [
        "# USING H2O"
      ]
    },
    {
      "metadata": {
        "id": "jyzTJZdBu57u",
        "colab_type": "code",
        "outputId": "f181677d-91ac-4056-be4d-1efb43928626",
        "colab": {
          "base_uri": "https://localhost:8080/",
          "height": 50
        }
      },
      "cell_type": "code",
      "source": [
        "!pip -q install h2o\n"
      ],
      "execution_count": 0,
      "outputs": [
        {
          "output_type": "stream",
          "text": [
            "\u001b[K    100% |████████████████████████████████| 121.0MB 177kB/s \n",
            "\u001b[?25h  Building wheel for h2o (setup.py) ... \u001b[?25ldone\n",
            "\u001b[?25h"
          ],
          "name": "stdout"
        }
      ]
    },
    {
      "metadata": {
        "id": "eov-EJaW09Jn",
        "colab_type": "code",
        "outputId": "6b3ef844-525d-433f-d3f4-7919a84766e0",
        "colab": {
          "base_uri": "https://localhost:8080/",
          "height": 526
        }
      },
      "cell_type": "code",
      "source": [
        "import h2o\n",
        "h2o.init()"
      ],
      "execution_count": 0,
      "outputs": [
        {
          "output_type": "stream",
          "text": [
            "Checking whether there is an H2O instance running at http://localhost:54321 ..... not found.\n",
            "Attempting to start a local H2O server...\n",
            "  Java Version: openjdk version \"10.0.2\" 2018-07-17; OpenJDK Runtime Environment (build 10.0.2+13-Ubuntu-1ubuntu0.18.04.4); OpenJDK 64-Bit Server VM (build 10.0.2+13-Ubuntu-1ubuntu0.18.04.4, mixed mode)\n",
            "  Starting server from /usr/local/lib/python3.6/dist-packages/h2o/backend/bin/h2o.jar\n",
            "  Ice root: /tmp/tmpbjp917i0\n",
            "  JVM stdout: /tmp/tmpbjp917i0/h2o_unknownUser_started_from_python.out\n",
            "  JVM stderr: /tmp/tmpbjp917i0/h2o_unknownUser_started_from_python.err\n",
            "  Server is running at http://127.0.0.1:54321\n",
            "Connecting to H2O server at http://127.0.0.1:54321 ... successful.\n"
          ],
          "name": "stdout"
        },
        {
          "output_type": "display_data",
          "data": {
            "text/html": [
              "<div style=\"overflow:auto\"><table style=\"width:50%\"><tr><td>H2O cluster uptime:</td>\n",
              "<td>02 secs</td></tr>\n",
              "<tr><td>H2O cluster timezone:</td>\n",
              "<td>Etc/UTC</td></tr>\n",
              "<tr><td>H2O data parsing timezone:</td>\n",
              "<td>UTC</td></tr>\n",
              "<tr><td>H2O cluster version:</td>\n",
              "<td>3.24.0.1</td></tr>\n",
              "<tr><td>H2O cluster version age:</td>\n",
              "<td>2 days </td></tr>\n",
              "<tr><td>H2O cluster name:</td>\n",
              "<td>H2O_from_python_unknownUser_wdc8mh</td></tr>\n",
              "<tr><td>H2O cluster total nodes:</td>\n",
              "<td>1</td></tr>\n",
              "<tr><td>H2O cluster free memory:</td>\n",
              "<td>3 Gb</td></tr>\n",
              "<tr><td>H2O cluster total cores:</td>\n",
              "<td>2</td></tr>\n",
              "<tr><td>H2O cluster allowed cores:</td>\n",
              "<td>2</td></tr>\n",
              "<tr><td>H2O cluster status:</td>\n",
              "<td>accepting new members, healthy</td></tr>\n",
              "<tr><td>H2O connection url:</td>\n",
              "<td>http://127.0.0.1:54321</td></tr>\n",
              "<tr><td>H2O connection proxy:</td>\n",
              "<td>None</td></tr>\n",
              "<tr><td>H2O internal security:</td>\n",
              "<td>False</td></tr>\n",
              "<tr><td>H2O API Extensions:</td>\n",
              "<td>Amazon S3, XGBoost, Algos, AutoML, Core V3, Core V4</td></tr>\n",
              "<tr><td>Python version:</td>\n",
              "<td>3.6.7 final</td></tr></table></div>"
            ],
            "text/plain": [
              "--------------------------  ---------------------------------------------------\n",
              "H2O cluster uptime:         02 secs\n",
              "H2O cluster timezone:       Etc/UTC\n",
              "H2O data parsing timezone:  UTC\n",
              "H2O cluster version:        3.24.0.1\n",
              "H2O cluster version age:    2 days\n",
              "H2O cluster name:           H2O_from_python_unknownUser_wdc8mh\n",
              "H2O cluster total nodes:    1\n",
              "H2O cluster free memory:    3 Gb\n",
              "H2O cluster total cores:    2\n",
              "H2O cluster allowed cores:  2\n",
              "H2O cluster status:         accepting new members, healthy\n",
              "H2O connection url:         http://127.0.0.1:54321\n",
              "H2O connection proxy:\n",
              "H2O internal security:      False\n",
              "H2O API Extensions:         Amazon S3, XGBoost, Algos, AutoML, Core V3, Core V4\n",
              "Python version:             3.6.7 final\n",
              "--------------------------  ---------------------------------------------------"
            ]
          },
          "metadata": {
            "tags": []
          }
        }
      ]
    },
    {
      "metadata": {
        "id": "r0ADYDSH1ZkN",
        "colab_type": "code",
        "outputId": "f6838a86-1dc4-47ed-bcef-046d7126c4a0",
        "colab": {
          "base_uri": "https://localhost:8080/",
          "height": 580
        }
      },
      "cell_type": "code",
      "source": [
        "df_modelc=pd.concat([df_model,target],axis=1)\n",
        "df_modelH = h2o.H2OFrame(df_modelc)\n",
        "df_modelH.describe()"
      ],
      "execution_count": 0,
      "outputs": [
        {
          "output_type": "stream",
          "text": [
            "Parse progress: |█████████████████████████████████████████████████████████| 100%\n",
            "Rows:3879\n",
            "Cols:11\n",
            "\n",
            "\n"
          ],
          "name": "stdout"
        },
        {
          "output_type": "display_data",
          "data": {
            "text/html": [
              "<table>\n",
              "<thead>\n",
              "<tr><th>       </th><th>Make   </th><th>Model              </th><th>Variant            </th><th>Color  </th><th>No of Owner       </th><th>Kms              </th><th>Type     </th><th>Transmission  </th><th>Fuel Type   </th><th>on road price    </th><th>Dep               </th></tr>\n",
              "</thead>\n",
              "<tbody>\n",
              "<tr><td>type   </td><td>enum   </td><td>enum               </td><td>enum               </td><td>enum   </td><td>int               </td><td>int              </td><td>enum     </td><td>enum          </td><td>enum        </td><td>real             </td><td>real              </td></tr>\n",
              "<tr><td>mins   </td><td>       </td><td>                   </td><td>                   </td><td>       </td><td>1.0               </td><td>863.0            </td><td>         </td><td>              </td><td>            </td><td>237274.731196    </td><td>2.071667046955598 </td></tr>\n",
              "<tr><td>mean   </td><td>       </td><td>                   </td><td>                   </td><td>       </td><td>1.2266047950502723</td><td>56812.58752255728</td><td>         </td><td>              </td><td>            </td><td>938142.4493802116</td><td>54.34258619071732 </td></tr>\n",
              "<tr><td>maxs   </td><td>       </td><td>                   </td><td>                   </td><td>       </td><td>6.0               </td><td>854995.0         </td><td>         </td><td>              </td><td>            </td><td>10954664.0       </td><td>92.4539045041615  </td></tr>\n",
              "<tr><td>sigma  </td><td>       </td><td>                   </td><td>                   </td><td>       </td><td>0.5492304112569817</td><td>46163.39721552792</td><td>         </td><td>              </td><td>            </td><td>584146.9138721139</td><td>17.23535171678547 </td></tr>\n",
              "<tr><td>zeros  </td><td>       </td><td>                   </td><td>                   </td><td>       </td><td>0                 </td><td>0                </td><td>         </td><td>              </td><td>            </td><td>0                </td><td>0                 </td></tr>\n",
              "<tr><td>missing</td><td>0      </td><td>0                  </td><td>0                  </td><td>0      </td><td>0                 </td><td>0                </td><td>0        </td><td>0             </td><td>0           </td><td>0                </td><td>0                 </td></tr>\n",
              "<tr><td>0      </td><td>Hyundai</td><td>I10                </td><td>Sportz 1.2         </td><td>White  </td><td>1.0               </td><td>12000.0          </td><td>Hatchback</td><td>Manual        </td><td>Petrol      </td><td>537849.665431    </td><td>37.09171507453382 </td></tr>\n",
              "<tr><td>1      </td><td>Hyundai</td><td>I20                </td><td>Magna (O) 1.2      </td><td>Beige  </td><td>1.0               </td><td>68000.0          </td><td>Hatchback</td><td>Manual        </td><td>Petrol      </td><td>613862.680246    </td><td>69.17877465295987 </td></tr>\n",
              "<tr><td>2      </td><td>Hyundai</td><td>I20                </td><td>Sportz 1.2         </td><td>White  </td><td>1.0               </td><td>31143.0          </td><td>Hatchback</td><td>Manual        </td><td>Petrol      </td><td>678358.571604    </td><td>48.76338052629532 </td></tr>\n",
              "<tr><td>3      </td><td>Hyundai</td><td>Neo Fluidic Elantra</td><td>1.6SxAtCrdi        </td><td>Silver </td><td>1.0               </td><td>6000.0           </td><td>Sedan    </td><td>Automatic     </td><td>Diesel      </td><td>2228480.4992     </td><td>26.889645182675693</td></tr>\n",
              "<tr><td>4      </td><td>Hyundai</td><td>Santro Xing        </td><td>Xo                 </td><td>Golden </td><td>2.0               </td><td>100000.0         </td><td>Hatchback</td><td>Manual        </td><td>Petrol      </td><td>453719.368       </td><td>80.99265623591366 </td></tr>\n",
              "<tr><td>5      </td><td>Hyundai</td><td>Grand I10          </td><td>Asta 1.2 Kappa VTVT</td><td>Red    </td><td>1.0               </td><td>45000.0          </td><td>Hatchback</td><td>Manual        </td><td>Petrol      </td><td>752105.0         </td><td>51.63780323226145 </td></tr>\n",
              "<tr><td>6      </td><td>Hyundai</td><td>Accent             </td><td>GLS                </td><td>Silver </td><td>1.0               </td><td>78484.0          </td><td>Sedan    </td><td>Manual        </td><td>Petrol      </td><td>691110.636       </td><td>85.35690311673919 </td></tr>\n",
              "<tr><td>7      </td><td>Hyundai</td><td>I10                </td><td>Magna              </td><td>Red    </td><td>2.0               </td><td>55000.0          </td><td>Hatchback</td><td>Manual        </td><td>Petrol + CNG</td><td>462988.362962    </td><td>64.83712917567178 </td></tr>\n",
              "<tr><td>8      </td><td>Hyundai</td><td>I10                </td><td>Era                </td><td>Grey   </td><td>2.0               </td><td>68000.0          </td><td>Hatchback</td><td>Manual        </td><td>Petrol      </td><td>446864.390123    </td><td>69.47619836916168 </td></tr>\n",
              "<tr><td>9      </td><td>Hyundai</td><td>Creta              </td><td>1.6Sx+AtDiesel     </td><td>White  </td><td>1.0               </td><td>4500.0           </td><td>SUV      </td><td>Automatic     </td><td>Diesel      </td><td>1741999.316      </td><td>29.10444977465193 </td></tr>\n",
              "</tbody>\n",
              "</table>"
            ]
          },
          "metadata": {
            "tags": []
          }
        }
      ]
    },
    {
      "metadata": {
        "id": "0WtJDGvL1B9q",
        "colab_type": "code",
        "colab": {}
      },
      "cell_type": "code",
      "source": [
        "# Identify predictors and response\n",
        "x = df_modelH.columns\n",
        "y = \"Dep\"\n",
        "x.remove(y)"
      ],
      "execution_count": 0,
      "outputs": []
    },
    {
      "metadata": {
        "id": "eQNGMdXE2ovi",
        "colab_type": "code",
        "outputId": "c329304c-3cdd-4506-92b1-508ecc878ee8",
        "colab": {
          "base_uri": "https://localhost:8080/",
          "height": 34
        }
      },
      "cell_type": "code",
      "source": [
        "# Run AutoML for 20 base models (limited to 1 hour max runtime by default)\n",
        "from h2o.automl import H2OAutoML\n",
        "aml = H2OAutoML(max_models=20, seed=1)\n",
        "aml.train(x=x, y=y, training_frame=df_modelH)"
      ],
      "execution_count": 0,
      "outputs": [
        {
          "output_type": "stream",
          "text": [
            "AutoML progress: |████████████████████████████████████████████████████████| 100%\n"
          ],
          "name": "stdout"
        }
      ]
    },
    {
      "metadata": {
        "id": "Omv00PKM239g",
        "colab_type": "code",
        "outputId": "1d2f628b-0b21-473a-a70c-2b84f397382e",
        "colab": {
          "base_uri": "https://localhost:8080/",
          "height": 478
        }
      },
      "cell_type": "code",
      "source": [
        "# View the AutoML Leaderboard\n",
        "lb = aml.leaderboard\n",
        "lb.head(rows=lb.nrows)"
      ],
      "execution_count": 0,
      "outputs": [
        {
          "output_type": "display_data",
          "data": {
            "text/html": [
              "<table>\n",
              "<thead>\n",
              "<tr><th>model_id                                           </th><th style=\"text-align: right;\">  mean_residual_deviance</th><th style=\"text-align: right;\">    rmse</th><th style=\"text-align: right;\">     mse</th><th style=\"text-align: right;\">     mae</th><th style=\"text-align: right;\">   rmsle</th></tr>\n",
              "</thead>\n",
              "<tbody>\n",
              "<tr><td>StackedEnsemble_AllModels_AutoML_20190403_062115   </td><td style=\"text-align: right;\">                 97.5099</td><td style=\"text-align: right;\"> 9.87471</td><td style=\"text-align: right;\"> 97.5099</td><td style=\"text-align: right;\"> 7.46287</td><td style=\"text-align: right;\">0.240581</td></tr>\n",
              "<tr><td>StackedEnsemble_BestOfFamily_AutoML_20190403_062115</td><td style=\"text-align: right;\">                 97.9833</td><td style=\"text-align: right;\"> 9.89865</td><td style=\"text-align: right;\"> 97.9833</td><td style=\"text-align: right;\"> 7.47844</td><td style=\"text-align: right;\">0.241302</td></tr>\n",
              "<tr><td>DeepLearning_grid_1_AutoML_20190403_062115_model_1 </td><td style=\"text-align: right;\">                104.643 </td><td style=\"text-align: right;\">10.2295 </td><td style=\"text-align: right;\">104.643 </td><td style=\"text-align: right;\"> 7.72396</td><td style=\"text-align: right;\">0.25239 </td></tr>\n",
              "<tr><td>DeepLearning_grid_1_AutoML_20190403_062115_model_2 </td><td style=\"text-align: right;\">                105.445 </td><td style=\"text-align: right;\">10.2686 </td><td style=\"text-align: right;\">105.445 </td><td style=\"text-align: right;\"> 7.90092</td><td style=\"text-align: right;\">0.246559</td></tr>\n",
              "<tr><td>XGBoost_1_AutoML_20190403_062115                   </td><td style=\"text-align: right;\">                106.034 </td><td style=\"text-align: right;\">10.2973 </td><td style=\"text-align: right;\">106.034 </td><td style=\"text-align: right;\"> 7.80612</td><td style=\"text-align: right;\">0.24967 </td></tr>\n",
              "<tr><td>DRF_1_AutoML_20190403_062115                       </td><td style=\"text-align: right;\">                108.633 </td><td style=\"text-align: right;\">10.4227 </td><td style=\"text-align: right;\">108.633 </td><td style=\"text-align: right;\"> 7.84116</td><td style=\"text-align: right;\">0.25173 </td></tr>\n",
              "<tr><td>XGBoost_2_AutoML_20190403_062115                   </td><td style=\"text-align: right;\">                108.939 </td><td style=\"text-align: right;\">10.4374 </td><td style=\"text-align: right;\">108.939 </td><td style=\"text-align: right;\"> 7.91955</td><td style=\"text-align: right;\">0.251232</td></tr>\n",
              "<tr><td>XGBoost_grid_1_AutoML_20190403_062115_model_2      </td><td style=\"text-align: right;\">                109.505 </td><td style=\"text-align: right;\">10.4645 </td><td style=\"text-align: right;\">109.505 </td><td style=\"text-align: right;\"> 7.8424 </td><td style=\"text-align: right;\">0.25151 </td></tr>\n",
              "<tr><td>GBM_1_AutoML_20190403_062115                       </td><td style=\"text-align: right;\">                110.53  </td><td style=\"text-align: right;\">10.5133 </td><td style=\"text-align: right;\">110.53  </td><td style=\"text-align: right;\"> 7.89812</td><td style=\"text-align: right;\">0.256027</td></tr>\n",
              "<tr><td>GBM_3_AutoML_20190403_062115                       </td><td style=\"text-align: right;\">                110.873 </td><td style=\"text-align: right;\">10.5296 </td><td style=\"text-align: right;\">110.873 </td><td style=\"text-align: right;\"> 7.91808</td><td style=\"text-align: right;\">0.256374</td></tr>\n",
              "<tr><td>GBM_2_AutoML_20190403_062115                       </td><td style=\"text-align: right;\">                110.981 </td><td style=\"text-align: right;\">10.5348 </td><td style=\"text-align: right;\">110.981 </td><td style=\"text-align: right;\"> 7.90057</td><td style=\"text-align: right;\">0.256481</td></tr>\n",
              "<tr><td>XGBoost_grid_1_AutoML_20190403_062115_model_3      </td><td style=\"text-align: right;\">                111.054 </td><td style=\"text-align: right;\">10.5382 </td><td style=\"text-align: right;\">111.054 </td><td style=\"text-align: right;\"> 8.03849</td><td style=\"text-align: right;\">0.255838</td></tr>\n",
              "<tr><td>GBM_5_AutoML_20190403_062115                       </td><td style=\"text-align: right;\">                111.331 </td><td style=\"text-align: right;\">10.5513 </td><td style=\"text-align: right;\">111.331 </td><td style=\"text-align: right;\"> 7.93123</td><td style=\"text-align: right;\">0.257356</td></tr>\n",
              "<tr><td>GBM_4_AutoML_20190403_062115                       </td><td style=\"text-align: right;\">                112.638 </td><td style=\"text-align: right;\">10.6131 </td><td style=\"text-align: right;\">112.638 </td><td style=\"text-align: right;\"> 7.95032</td><td style=\"text-align: right;\">0.257954</td></tr>\n",
              "<tr><td>XGBoost_grid_1_AutoML_20190403_062115_model_4      </td><td style=\"text-align: right;\">                113.491 </td><td style=\"text-align: right;\">10.6532 </td><td style=\"text-align: right;\">113.491 </td><td style=\"text-align: right;\"> 8.12661</td><td style=\"text-align: right;\">0.259694</td></tr>\n",
              "<tr><td>XGBoost_3_AutoML_20190403_062115                   </td><td style=\"text-align: right;\">                114.81  </td><td style=\"text-align: right;\">10.7149 </td><td style=\"text-align: right;\">114.81  </td><td style=\"text-align: right;\"> 8.23587</td><td style=\"text-align: right;\">0.260291</td></tr>\n",
              "<tr><td>XRT_1_AutoML_20190403_062115                       </td><td style=\"text-align: right;\">                115.335 </td><td style=\"text-align: right;\">10.7394 </td><td style=\"text-align: right;\">115.335 </td><td style=\"text-align: right;\"> 8.27542</td><td style=\"text-align: right;\">0.259458</td></tr>\n",
              "<tr><td>DeepLearning_1_AutoML_20190403_062115              </td><td style=\"text-align: right;\">                116.183 </td><td style=\"text-align: right;\">10.7788 </td><td style=\"text-align: right;\">116.183 </td><td style=\"text-align: right;\"> 8.29695</td><td style=\"text-align: right;\">0.258513</td></tr>\n",
              "<tr><td>GBM_grid_1_AutoML_20190403_062115_model_1          </td><td style=\"text-align: right;\">                123.121 </td><td style=\"text-align: right;\">11.096  </td><td style=\"text-align: right;\">123.121 </td><td style=\"text-align: right;\"> 8.28399</td><td style=\"text-align: right;\">0.266484</td></tr>\n",
              "<tr><td>XGBoost_grid_1_AutoML_20190403_062115_model_1      </td><td style=\"text-align: right;\">                136.127 </td><td style=\"text-align: right;\">11.6674 </td><td style=\"text-align: right;\">136.127 </td><td style=\"text-align: right;\"> 9.3491 </td><td style=\"text-align: right;\">0.266863</td></tr>\n",
              "<tr><td>GBM_grid_1_AutoML_20190403_062115_model_2          </td><td style=\"text-align: right;\">                143.501 </td><td style=\"text-align: right;\">11.9792 </td><td style=\"text-align: right;\">143.501 </td><td style=\"text-align: right;\"> 8.83977</td><td style=\"text-align: right;\">0.287318</td></tr>\n",
              "<tr><td>GLM_grid_1_AutoML_20190403_062115_model_1          </td><td style=\"text-align: right;\">                179.809 </td><td style=\"text-align: right;\">13.4093 </td><td style=\"text-align: right;\">179.809 </td><td style=\"text-align: right;\">10.5428 </td><td style=\"text-align: right;\">0.318393</td></tr>\n",
              "</tbody>\n",
              "</table>"
            ]
          },
          "metadata": {
            "tags": []
          }
        },
        {
          "output_type": "execute_result",
          "data": {
            "text/plain": [
              ""
            ]
          },
          "metadata": {
            "tags": []
          },
          "execution_count": 184
        }
      ]
    },
    {
      "metadata": {
        "id": "vFlF_eP27egD",
        "colab_type": "code",
        "colab": {}
      },
      "cell_type": "code",
      "source": [
        ""
      ],
      "execution_count": 0,
      "outputs": []
    }
  ]
}